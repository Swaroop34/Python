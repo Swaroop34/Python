{
 "cells": [
  {
   "cell_type": "markdown",
   "metadata": {},
   "source": [
    "# Task 1:"
   ]
  },
  {
   "cell_type": "markdown",
   "metadata": {},
   "source": [
    "1.1 Write a Python Program to implement your own myreduce() function which works exactly like Python's built-in function reduce()\n"
   ]
  },
  {
   "cell_type": "code",
   "execution_count": 86,
   "metadata": {},
   "outputs": [
    {
     "data": {
      "text/plain": [
       "15"
      ]
     },
     "execution_count": 86,
     "metadata": {},
     "output_type": "execute_result"
    }
   ],
   "source": [
    "\n",
    "# Defining function name 'add' to add a+b \n",
    "def add(a,b):\n",
    "    return a+b\n",
    "\n",
    "\n",
    "#list of numbers\n",
    "lst = [1,2,3,4,5]\n",
    "\n",
    "\n",
    "# Defining my_reduce() function which works exactly like python's reduce() function\n",
    "\n",
    "def my_reduce(funct,seq):\n",
    "    temp = 0\n",
    "    for i in range(len(seq)):\n",
    "        #print(i)\n",
    "        if i == 1:\n",
    "            temp = funct(i,i+1)\n",
    "        else:\n",
    "            temp = funct(temp,i+1)\n",
    "           \n",
    "    return temp\n",
    "    \n",
    "    \n",
    "# Implementing my_reduce function\n",
    "\n",
    "my_reduce(add,lst)\n",
    "\n",
    "\n",
    "\n",
    "\n"
   ]
  },
  {
   "cell_type": "code",
   "execution_count": 87,
   "metadata": {},
   "outputs": [
    {
     "data": {
      "text/plain": [
       "15"
      ]
     },
     "execution_count": 87,
     "metadata": {},
     "output_type": "execute_result"
    }
   ],
   "source": [
    "# checking with reduce() function\n",
    "from functools import reduce\n",
    "reduce(add,lst)"
   ]
  },
  {
   "cell_type": "markdown",
   "metadata": {},
   "source": [
    "1.2 Write a Python program to implement your own myfilter() function which works exactly like Python's built-in function filter()"
   ]
  },
  {
   "cell_type": "code",
   "execution_count": 89,
   "metadata": {},
   "outputs": [
    {
     "data": {
      "text/plain": [
       "[2, 4, 6, 8]"
      ]
     },
     "execution_count": 89,
     "metadata": {},
     "output_type": "execute_result"
    }
   ],
   "source": [
    "\n",
    "# Defining a function named 'even' to chech whether a number is even or not\n",
    "def even(x):\n",
    "    if x%2 == 0:\n",
    "        return True\n",
    "    \n",
    "# list of numbers\n",
    "l = [1,2,3,4,5,6,7,8]\n",
    "\n",
    "# Defining my_filter function which works exactly like python's filter() function\n",
    "\n",
    "def my_filter(funct,lst):\n",
    "    result = []\n",
    "    for i in lst:\n",
    "        if funct(i) == True:\n",
    "            result.append(i)\n",
    "    return result\n",
    "\n",
    "# Implementing my_filter() function\n",
    "my_filter(even,l)\n",
    "\n"
   ]
  },
  {
   "cell_type": "code",
   "execution_count": 90,
   "metadata": {},
   "outputs": [
    {
     "data": {
      "text/plain": [
       "[2, 4, 6, 8]"
      ]
     },
     "execution_count": 90,
     "metadata": {},
     "output_type": "execute_result"
    }
   ],
   "source": [
    "# Checking with filter() function\n",
    "list(filter(even,l))"
   ]
  },
  {
   "cell_type": "markdown",
   "metadata": {},
   "source": [
    "2. Implement List comprehensions to produce the following lists.\n",
    "Write List comprehensions to produce the following Lists\n",
    "['A', 'C', 'A', 'D', 'G', 'I', ’L’, ‘ D’]\n",
    "['x', 'xx', 'xxx', 'xxxx', 'y', 'yy', 'yyy', 'yyyy', 'z', 'zz', 'zzz', 'zzzz']\n",
    "['x', 'y', 'z', 'xx', 'yy', 'zz', 'xx', 'yy', 'zz', 'xxxx', 'yyyy', 'zzzz']\n",
    "[[2], [3], [4], [3], [4], [5], [4], [5], [6]]\n",
    "[[2, 3, 4, 5], [3, 4, 5, 6], [4, 5, 6, 7], [5, 6, 7, 8]]\n",
    "[(1, 1), (2, 1), (3, 1), (1, 2), (2, 2), (3, 2), (1, 3), (2, 3), (3, 3)]\n"
   ]
  },
  {
   "cell_type": "code",
   "execution_count": null,
   "metadata": {},
   "outputs": [],
   "source": []
  },
  {
   "cell_type": "code",
   "execution_count": 91,
   "metadata": {},
   "outputs": [
    {
     "data": {
      "text/plain": [
       "['x', 'xx', 'xxx', 'xxxx', 'y', 'yy', 'yyy', 'yyyy', 'z', 'zz', 'zzz', 'zzzz']"
      ]
     },
     "execution_count": 91,
     "metadata": {},
     "output_type": "execute_result"
    }
   ],
   "source": [
    "\n",
    "# Defining a matrix\n",
    "matrix = ['x','y','z']\n",
    "\n",
    "# Implementing list comprehension to produce ['x','xx','xxx','xxxx','y','yy','yyy','yyyy','z','zz','zzz','zzzz']\n",
    "\n",
    "k1 = [matrix[0]*i for i in range(1,5)]\n",
    "k2 = [matrix[1]*i for i in range(1,5)]\n",
    "k3 = [matrix[2]*i for i in range(1,5)]\n",
    "\n",
    "k1+k2+k3\n"
   ]
  },
  {
   "cell_type": "code",
   "execution_count": 92,
   "metadata": {},
   "outputs": [
    {
     "data": {
      "text/plain": [
       "['x', 'y', 'z', 'xx', 'yy', 'zz', 'xxx', 'yyy', 'zzz', 'xxxx', 'yyyy', 'zzzz']"
      ]
     },
     "execution_count": 92,
     "metadata": {},
     "output_type": "execute_result"
    }
   ],
   "source": [
    "# Implementing list comprehension to produce ['x','y','z','xx','yy','zz','xxx','yyy','zzz','xxxx','yyyy','zzzz']\n",
    "# using the defined matrix ['x', 'y', 'z']\n",
    "matrix = ['x','y','z']\n",
    "\n",
    "l1 = [matrix[i]*1 for i in range(3)]\n",
    "l2 = [matrix[i]*2 for i in range(3)]\n",
    "l3 = [matrix[i]*3 for i in range(3)]\n",
    "l4 = [matrix[i]*4 for i in range(3)]\n",
    "\n",
    "l1+l2+l3+l4"
   ]
  },
  {
   "cell_type": "code",
   "execution_count": 93,
   "metadata": {},
   "outputs": [
    {
     "data": {
      "text/plain": [
       "[[2], [3], [4], [3], [4], [5], [4], [5], [6]]"
      ]
     },
     "execution_count": 93,
     "metadata": {},
     "output_type": "execute_result"
    }
   ],
   "source": [
    "# Defining a matrix named \"a\"\n",
    "a = [2,3,4,5,6]\n",
    "\n",
    "# Implementing list comprehension to produce [[2],[3],[4],[3],[4],[5],[4],[5],[6]] \n",
    "collect = []\n",
    "#m = []\n",
    "for n in range(3):\n",
    "    m1 = [a[i] for i in range(0+n,1+n)]\n",
    "    collect.append(m1)\n",
    "    m2 = [a[i] for i in range(1+n,2+n)]\n",
    "    collect.append(m2)\n",
    "    m3 = [a[i] for i in range(2+n,3+n)]\n",
    "    collect.append(m3)\n",
    "    \n",
    "    \n",
    "collect"
   ]
  },
  {
   "cell_type": "code",
   "execution_count": 94,
   "metadata": {},
   "outputs": [
    {
     "data": {
      "text/plain": [
       "[[2, 3, 4, 5], [3, 4, 5, 6], [4, 5, 6, 7], [5, 6, 7, 8]]"
      ]
     },
     "execution_count": 94,
     "metadata": {},
     "output_type": "execute_result"
    }
   ],
   "source": [
    "# Defining a matrix named \"matrix1\"\n",
    "matrix1 = [2,3,4,5]\n",
    "\n",
    "# Implementing list comprehension to produce [[2,3,4,5],[3,4,5,6],[4,5,6,7],[5,6,7,8]]\n",
    "n1 = [matrix1[i]+0 for i in range(4)]\n",
    "n2 = [matrix1[i]+1 for i in range(4)]\n",
    "n3 = [matrix1[i]+2 for i in range(4)]\n",
    "n4 = [matrix1[i]+3 for i in range(4)]\n",
    "\n",
    "n5 = n1,n2,n3,n4\n",
    "\n",
    "list(n5)"
   ]
  },
  {
   "cell_type": "code",
   "execution_count": 95,
   "metadata": {},
   "outputs": [
    {
     "data": {
      "text/plain": [
       "[(1, 1), (2, 1), (3, 1), (1, 2), (2, 2), (3, 2), (1, 3), (2, 3), (3, 3)]"
      ]
     },
     "execution_count": 95,
     "metadata": {},
     "output_type": "execute_result"
    }
   ],
   "source": [
    "# Defining k\n",
    "k = [1,2,3]\n",
    "\n",
    "# Implementing list comprehension to produce [(1,1),(2,1),(3,1),(1,2),(2,2),(3,2),(1,3),(2,3),(3,3)]\n",
    "p1 = [(k[i],k[0]) for i in range(3)]\n",
    "p2 = [(k[i],k[1]) for i in range(3)]\n",
    "p3 = [(k[i],k[2]) for i in range(3)]\n",
    "\n",
    "p1+p2+p3"
   ]
  },
  {
   "cell_type": "markdown",
   "metadata": {},
   "source": [
    "3. Implement a function longestWord() that takes a list of words and returns the longest one."
   ]
  },
  {
   "cell_type": "code",
   "execution_count": 96,
   "metadata": {},
   "outputs": [],
   "source": [
    "def longestword(a):\n",
    "    result = []\n",
    "    temp = a[0]\n",
    "    for i in a:\n",
    "        if len(i)>len(temp):\n",
    "            temp = i\n",
    "    result.append(temp)\n",
    "    for i in a:\n",
    "        if len(i) == len(temp) and i != temp:\n",
    "            result.append(i)\n",
    "    print('The longest word/words in the given list: ',result)\n",
    "            \n",
    "            \n",
    "            \n",
    "    \n",
    "     \n",
    "    \n",
    "    "
   ]
  },
  {
   "cell_type": "code",
   "execution_count": 97,
   "metadata": {},
   "outputs": [
    {
     "name": "stdout",
     "output_type": "stream",
     "text": [
      "The longest word/words in the given list:  ['Elephant', 'Dinosaur']\n"
     ]
    }
   ],
   "source": [
    "a = ['cat','dog','Elephant','lion','mouse','Giraffe','Gorilla','Tiger','Monkey','Dinosaur']\n",
    "longestword(a)"
   ]
  },
  {
   "cell_type": "markdown",
   "metadata": {},
   "source": [
    "# Task 2:"
   ]
  },
  {
   "cell_type": "markdown",
   "metadata": {},
   "source": [
    "1.1 Write a Python Program(with class concepts) to find the area of the triangle using the below\n",
    "formula.\n",
    "area = (s*(s-a)*(s-b)*(s-c)) ** 0.5\n",
    "Function to take the length of the sides of triangle from user should be defined in the parent\n",
    "class and function to calculate the area should be defined in subclass."
   ]
  },
  {
   "cell_type": "code",
   "execution_count": 98,
   "metadata": {},
   "outputs": [
    {
     "name": "stdout",
     "output_type": "stream",
     "text": [
      "Enter the three sides of a triangle\n",
      "Enter length of side-A of triangle: 12\n",
      "Enter length of side-B of triangle: 24\n",
      "Enter length of side-C of triangle: 15\n",
      "The perimeter of the triangle is:  25.5\n",
      "The area of the triangle is : 73.63\n"
     ]
    }
   ],
   "source": [
    "# Defining parent class named Triangle \n",
    "class Triangle:\n",
    "    def __init__(self):\n",
    "        self.a = float(input(\"Enter length of side-A of triangle: \"))\n",
    "        self.b = float(input(\"Enter length of side-B of triangle: \"))\n",
    "        self.c = float(input(\"Enter length of side-C of triangle: \"))\n",
    "    \n",
    "     \n",
    "#Defining child class named Area        \n",
    "class Area(Triangle):\n",
    "    def __init__(self):\n",
    "        print(\"Enter the three sides of a triangle\")\n",
    "        super().__init__() #calling parent class __init__ method\n",
    "        s = (self.a + self.b + self.c)/2\n",
    "        print(\"The perimeter of the triangle is: \",s)\n",
    "        #print(self.a)\n",
    "        area = (s*(s - self.a)*(s - self.b)*(s - self.c))**0.5\n",
    "        if (area == 0):\n",
    "            print(\"The area of the traingle is 'zero' because, length of one of its sides equals to its perimeter \")\n",
    "        else:\n",
    "            #print(area)\n",
    "            print(\"The area of the triangle is : {0:.2f}\".format(area))\n",
    "    \n",
    "    \n",
    "    \n",
    "    \n",
    " \n",
    "        \n",
    "t = Area() # t is object of child class named Area      \n",
    "                "
   ]
  },
  {
   "cell_type": "markdown",
   "metadata": {},
   "source": [
    "1.2 Write a function filter_long_words() that takes a list of words and an integer n and returns the list\n",
    "of words that are longer than n."
   ]
  },
  {
   "cell_type": "code",
   "execution_count": 99,
   "metadata": {},
   "outputs": [
    {
     "name": "stdout",
     "output_type": "stream",
     "text": [
      "Enter list of words: \n",
      "cat,mouse,elephant,dinosaur\n",
      "Enter an integer n: \n",
      "6\n",
      "The list of words longer than n are: \n",
      " ['elephant', 'dinosaur']\n"
     ]
    }
   ],
   "source": [
    "#defining function\n",
    "def filter_long_words():\n",
    "    print(\"Enter list of words: \")\n",
    "    user_input = input().split(\",\")\n",
    "    print(\"Enter an integer n: \")\n",
    "    n = int(input())\n",
    "    #print(n)\n",
    "    result = []\n",
    "    #print(user_input[0][0])\n",
    "    #print(len(user_input[0]))\n",
    "    for i in user_input:\n",
    "        if len(i) > n:\n",
    "            result.append(i)\n",
    "            \n",
    "        \n",
    "    return print(\"The list of words longer than n are: \\n\",result)\n",
    "    \n",
    "    \n",
    "    \n",
    "#calling function    \n",
    "filter_long_words()  "
   ]
  },
  {
   "cell_type": "markdown",
   "metadata": {},
   "source": [
    "2.1 Write a Python program using function concept that maps list of words into a list of integers\n",
    "representing the lengths of the corresponding words .\n",
    "Hint: If a list [ ab,cde,erty] is passed on to the python function output should come as [2,3,4]\n",
    "Here 2,3 and 4 are the lengths of the words in the list."
   ]
  },
  {
   "cell_type": "code",
   "execution_count": 70,
   "metadata": {},
   "outputs": [
    {
     "name": "stdout",
     "output_type": "stream",
     "text": [
      "Enter list of words: apple, cat, mouse,lion, elephant\n"
     ]
    },
    {
     "data": {
      "text/plain": [
       "[5, 3, 5, 4, 8]"
      ]
     },
     "execution_count": 70,
     "metadata": {},
     "output_type": "execute_result"
    }
   ],
   "source": [
    "# getting list of words as input from user\n",
    "words = input(\"Enter list of words: \").split(\",\")\n",
    "#print(words)\n",
    "\n",
    "# Defining function\n",
    "def words_to_integers(words):\n",
    "    l = len(words)-words.count(' ') \n",
    "    return l\n",
    "    \n",
    "# mapping function and list of words\n",
    "list(map(words_to_integers,words)) "
   ]
  },
  {
   "cell_type": "markdown",
   "metadata": {},
   "source": [
    "2.2 Write a Python function which takes a character (i.e. a string of length 1) and returns True if it is\n",
    "a vowel, False otherwise."
   ]
  },
  {
   "cell_type": "code",
   "execution_count": 80,
   "metadata": {},
   "outputs": [],
   "source": [
    "# defining function\n",
    "def is_vowel(character):\n",
    "    vowels = ['a','e','i','o','u']\n",
    "    for i in vowels:\n",
    "        if i == character:\n",
    "            return True\n",
    "    else:\n",
    "        return False\n",
    "        \n",
    "        "
   ]
  },
  {
   "cell_type": "code",
   "execution_count": 81,
   "metadata": {},
   "outputs": [
    {
     "data": {
      "text/plain": [
       "False"
      ]
     },
     "execution_count": 81,
     "metadata": {},
     "output_type": "execute_result"
    }
   ],
   "source": [
    "is_vowel('h')"
   ]
  },
  {
   "cell_type": "code",
   "execution_count": 85,
   "metadata": {},
   "outputs": [
    {
     "data": {
      "text/plain": [
       "True"
      ]
     },
     "execution_count": 85,
     "metadata": {},
     "output_type": "execute_result"
    }
   ],
   "source": [
    "is_vowel('u')"
   ]
  },
  {
   "cell_type": "code",
   "execution_count": null,
   "metadata": {},
   "outputs": [],
   "source": []
  }
 ],
 "metadata": {
  "kernelspec": {
   "display_name": "Python 3",
   "language": "python",
   "name": "python3"
  },
  "language_info": {
   "codemirror_mode": {
    "name": "ipython",
    "version": 3
   },
   "file_extension": ".py",
   "mimetype": "text/x-python",
   "name": "python",
   "nbconvert_exporter": "python",
   "pygments_lexer": "ipython3",
   "version": "3.8.5"
  }
 },
 "nbformat": 4,
 "nbformat_minor": 4
}
